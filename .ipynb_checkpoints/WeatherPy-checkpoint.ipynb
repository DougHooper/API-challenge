{
 "cells": [
  {
   "cell_type": "markdown",
   "metadata": {},
   "source": [
    "# WeatherPy\n",
    "\n",
    "---\n",
    "\n",
    "## Starter Code to Generate Random Geographic Coordinates and a List of Cities"
   ]
  },
  {
   "cell_type": "code",
   "execution_count": 1,
   "metadata": {
    "scrolled": true
   },
   "outputs": [],
   "source": [
    "# Dependencies and Setup\n",
    "import matplotlib.pyplot as plt\n",
    "import pandas as pd\n",
    "import numpy as np\n",
    "import requests\n",
    "import json\n",
    "import time\n",
    "from scipy.stats import linregress\n",
    "\n",
    "# Impor the OpenWeatherMap API key\n",
    "from api_keys import weather_api_key\n",
    "\n",
    "# Import citipy to determine the cities based on latitude and longitude\n",
    "from citipy import citipy"
   ]
  },
  {
   "cell_type": "markdown",
   "metadata": {},
   "source": [
    "### Generate the Cities List by Using the `citipy` Library"
   ]
  },
  {
   "cell_type": "code",
   "execution_count": 2,
   "metadata": {},
   "outputs": [
    {
     "name": "stdout",
     "output_type": "stream",
     "text": [
      "Number of cities in the list: ['nantucket', 'watertown', 'lompoc', 'heroica guaymas', 'ammon', 'el granada', 'durango', 'lincoln city', 'keyser', 'james island', 'jamesburg', 'houlton', 'key west', 'preston', 'paris', 'thunder bay', 'montpelier', 'boise', 'eastham', 'monroe', 'galliano', 'cloquet', 'west side highway', 'big bear city', 'camalu', 'mascotte', 'silsbee', 'linares', 'watford city', 'sooke', 'lazaro cardenas', 'helena valley west central', 'beeville', 'arteaga', 'houghton', 'pesqueira', 'woodstock', 'laurentides', 'trinidad', 'cockburn town', 'north perth', 'maquoketa', 'leland', 'west salem', 'creel', 'puerto san carlos', 'williamsport']\n"
     ]
    }
   ],
   "source": [
    "# Empty list for holding the latitude and longitude combinations\n",
    "lat_lngs = []\n",
    "\n",
    "# Empty list for holding the cities names\n",
    "citynames = []\n",
    "\n",
    "# Range of latitudes and longitudes\n",
    "lat_range = (24, 50)\n",
    "lng_range = (-125, -66.9)\n",
    "\n",
    "# Create a set of random lat and lng combinations\n",
    "lats = np.random.uniform(lat_range[0], lat_range[1], size=50)\n",
    "lngs = np.random.uniform(lng_range[0], lng_range[1], size=50)\n",
    "lat_lngs = zip(lats, lngs)\n",
    "\n",
    "# Identify nearest city for each lat, lng combination\n",
    "for lat_lng in lat_lngs:\n",
    "    city = citipy.nearest_city(lat_lng[0], lat_lng[1]).city_name\n",
    "    \n",
    "    # If the city is unique, then add it to a our cities list\n",
    "    if city not in citynames:\n",
    "        citynames.append(city)\n",
    "\n",
    "# Print the city count to confirm sufficient count\n",
    "print(f\"Number of cities in the list: {(citynames)}\")"
   ]
  },
  {
   "cell_type": "markdown",
   "metadata": {},
   "source": [
    "---"
   ]
  },
  {
   "cell_type": "markdown",
   "metadata": {},
   "source": [
    "## Requirement 1: Create Plots to Showcase the Relationship Between Weather Variables and Latitude\n",
    "\n",
    "### Use the OpenWeatherMap API to retrieve weather data from the cities list generated in the started code"
   ]
  },
  {
   "cell_type": "code",
   "execution_count": 14,
   "metadata": {},
   "outputs": [],
   "source": [
    "weather_api_key = \"4cd9ccedff156f0de3143ba431958a6a\""
   ]
  },
  {
   "cell_type": "code",
   "execution_count": 15,
   "metadata": {},
   "outputs": [
    {
     "data": {
      "text/plain": [
       "401"
      ]
     },
     "execution_count": 15,
     "metadata": {},
     "output_type": "execute_result"
    }
   ],
   "source": [
    "# Set the API base URL\n",
    "url = \"https://api.openweathermap.org/data/2.5/weather?\"\n",
    "units = 'imperial'\n",
    "queryURL = f\"{url}appid={api_key}&units={units}&q=\"\n",
    "response = requests.get(url)\n",
    "\n",
    "response.status_code"
   ]
  },
  {
   "cell_type": "code",
   "execution_count": 16,
   "metadata": {},
   "outputs": [
    {
     "data": {
      "text/plain": [
       "{'coord': {'lon': -90.4407, 'lat': 31.5791},\n",
       " 'weather': [{'id': 800,\n",
       "   'main': 'Clear',\n",
       "   'description': 'clear sky',\n",
       "   'icon': '01n'}],\n",
       " 'base': 'stations',\n",
       " 'main': {'temp': 63.81,\n",
       "  'feels_like': 63.5,\n",
       "  'temp_min': 62.24,\n",
       "  'temp_max': 65.86,\n",
       "  'pressure': 1010,\n",
       "  'humidity': 77,\n",
       "  'sea_level': 1010,\n",
       "  'grnd_level': 993},\n",
       " 'visibility': 10000,\n",
       " 'wind': {'speed': 2.98, 'deg': 276, 'gust': 3.36},\n",
       " 'clouds': {'all': 0},\n",
       " 'dt': 1682904501,\n",
       " 'sys': {'type': 2,\n",
       "  'id': 2003081,\n",
       "  'country': 'US',\n",
       "  'sunrise': 1682853452,\n",
       "  'sunset': 1682901615},\n",
       " 'timezone': -18000,\n",
       " 'id': 4419500,\n",
       " 'name': 'Brookhaven',\n",
       " 'cod': 200}"
      ]
     },
     "execution_count": 16,
     "metadata": {},
     "output_type": "execute_result"
    }
   ],
   "source": [
    "city = \"brookhaven\"\n",
    "queryURL += city\n",
    "\n",
    "weather = requests.get(queryURL)\n",
    "\n",
    "weatherJson = weather.json()\n",
    "weatherJson"
   ]
  },
  {
   "cell_type": "code",
   "execution_count": 17,
   "metadata": {},
   "outputs": [
    {
     "name": "stdout",
     "output_type": "stream",
     "text": [
      "Printed after 1 second\n",
      "Printed after 2 seconds\n",
      "Printed after 3 seconds\n",
      "Printed after 4 seconds\n",
      "Printed after 5 seconds\n"
     ]
    }
   ],
   "source": [
    "import time\n",
    "\n",
    "count = 0\n",
    "\n",
    "while count < 5:\n",
    "    time.sleep(1) # pauses the program for 1 second\n",
    "    count += 1\n",
    "    if count == 1:\n",
    "        print(f\"Printed after {count} second\")\n",
    "    else:\n",
    "          print(f\"Printed after {count} seconds\")"
   ]
  },
  {
   "cell_type": "code",
   "execution_count": 18,
   "metadata": {},
   "outputs": [
    {
     "data": {
      "text/html": [
       "<div>\n",
       "<style scoped>\n",
       "    .dataframe tbody tr th:only-of-type {\n",
       "        vertical-align: middle;\n",
       "    }\n",
       "\n",
       "    .dataframe tbody tr th {\n",
       "        vertical-align: top;\n",
       "    }\n",
       "\n",
       "    .dataframe thead th {\n",
       "        text-align: right;\n",
       "    }\n",
       "</style>\n",
       "<table border=\"1\" class=\"dataframe\">\n",
       "  <thead>\n",
       "    <tr style=\"text-align: right;\">\n",
       "      <th></th>\n",
       "      <th>City Name</th>\n",
       "      <th>Fahrenheit Temperature</th>\n",
       "      <th>Latitude</th>\n",
       "      <th>Longitude</th>\n",
       "    </tr>\n",
       "  </thead>\n",
       "  <tbody>\n",
       "    <tr>\n",
       "      <th>0</th>\n",
       "      <td>Nantucket</td>\n",
       "      <td>53.47</td>\n",
       "      <td>41.2835</td>\n",
       "      <td>-70.0995</td>\n",
       "    </tr>\n",
       "    <tr>\n",
       "      <th>1</th>\n",
       "      <td>Watertown</td>\n",
       "      <td>53.47</td>\n",
       "      <td>42.3709</td>\n",
       "      <td>-71.1828</td>\n",
       "    </tr>\n",
       "    <tr>\n",
       "      <th>2</th>\n",
       "      <td>Ammon</td>\n",
       "      <td>74.64</td>\n",
       "      <td>43.4696</td>\n",
       "      <td>-111.9666</td>\n",
       "    </tr>\n",
       "    <tr>\n",
       "      <th>3</th>\n",
       "      <td>El Granada</td>\n",
       "      <td>56.01</td>\n",
       "      <td>37.5027</td>\n",
       "      <td>-122.4694</td>\n",
       "    </tr>\n",
       "    <tr>\n",
       "      <th>4</th>\n",
       "      <td>Lincoln City</td>\n",
       "      <td>54.72</td>\n",
       "      <td>44.9582</td>\n",
       "      <td>-124.0179</td>\n",
       "    </tr>\n",
       "    <tr>\n",
       "      <th>5</th>\n",
       "      <td>Keyser</td>\n",
       "      <td>51.51</td>\n",
       "      <td>39.4409</td>\n",
       "      <td>-78.9739</td>\n",
       "    </tr>\n",
       "    <tr>\n",
       "      <th>6</th>\n",
       "      <td>Jamesburg</td>\n",
       "      <td>58.64</td>\n",
       "      <td>40.3526</td>\n",
       "      <td>-74.4401</td>\n",
       "    </tr>\n",
       "    <tr>\n",
       "      <th>7</th>\n",
       "      <td>Houlton</td>\n",
       "      <td>47.95</td>\n",
       "      <td>46.1262</td>\n",
       "      <td>-67.8403</td>\n",
       "    </tr>\n",
       "    <tr>\n",
       "      <th>8</th>\n",
       "      <td>Key West</td>\n",
       "      <td>79.00</td>\n",
       "      <td>24.5557</td>\n",
       "      <td>-81.7826</td>\n",
       "    </tr>\n",
       "    <tr>\n",
       "      <th>9</th>\n",
       "      <td>Montpelier</td>\n",
       "      <td>49.35</td>\n",
       "      <td>44.2601</td>\n",
       "      <td>-72.5754</td>\n",
       "    </tr>\n",
       "    <tr>\n",
       "      <th>10</th>\n",
       "      <td>Boise</td>\n",
       "      <td>84.27</td>\n",
       "      <td>43.6135</td>\n",
       "      <td>-116.2035</td>\n",
       "    </tr>\n",
       "    <tr>\n",
       "      <th>11</th>\n",
       "      <td>Eastham</td>\n",
       "      <td>53.78</td>\n",
       "      <td>41.8301</td>\n",
       "      <td>-69.9739</td>\n",
       "    </tr>\n",
       "    <tr>\n",
       "      <th>12</th>\n",
       "      <td>Monroe</td>\n",
       "      <td>46.09</td>\n",
       "      <td>43.1501</td>\n",
       "      <td>-77.6831</td>\n",
       "    </tr>\n",
       "    <tr>\n",
       "      <th>13</th>\n",
       "      <td>Galliano</td>\n",
       "      <td>70.93</td>\n",
       "      <td>29.4422</td>\n",
       "      <td>-90.2992</td>\n",
       "    </tr>\n",
       "    <tr>\n",
       "      <th>14</th>\n",
       "      <td>Cloquet</td>\n",
       "      <td>44.24</td>\n",
       "      <td>46.7216</td>\n",
       "      <td>-92.4594</td>\n",
       "    </tr>\n",
       "    <tr>\n",
       "      <th>15</th>\n",
       "      <td>West Side Highway</td>\n",
       "      <td>60.87</td>\n",
       "      <td>46.1840</td>\n",
       "      <td>-122.9172</td>\n",
       "    </tr>\n",
       "    <tr>\n",
       "      <th>16</th>\n",
       "      <td>Big Bear</td>\n",
       "      <td>59.13</td>\n",
       "      <td>34.2611</td>\n",
       "      <td>-116.8450</td>\n",
       "    </tr>\n",
       "    <tr>\n",
       "      <th>17</th>\n",
       "      <td>Mascotte</td>\n",
       "      <td>68.32</td>\n",
       "      <td>28.5783</td>\n",
       "      <td>-81.8867</td>\n",
       "    </tr>\n",
       "    <tr>\n",
       "      <th>18</th>\n",
       "      <td>Silsbee</td>\n",
       "      <td>70.83</td>\n",
       "      <td>30.3491</td>\n",
       "      <td>-94.1780</td>\n",
       "    </tr>\n",
       "    <tr>\n",
       "      <th>19</th>\n",
       "      <td>Watford City</td>\n",
       "      <td>53.46</td>\n",
       "      <td>47.8022</td>\n",
       "      <td>-103.2832</td>\n",
       "    </tr>\n",
       "    <tr>\n",
       "      <th>20</th>\n",
       "      <td>Helena Valley West Central</td>\n",
       "      <td>74.23</td>\n",
       "      <td>46.6629</td>\n",
       "      <td>-112.0604</td>\n",
       "    </tr>\n",
       "    <tr>\n",
       "      <th>21</th>\n",
       "      <td>Beeville</td>\n",
       "      <td>72.30</td>\n",
       "      <td>28.4008</td>\n",
       "      <td>-97.7483</td>\n",
       "    </tr>\n",
       "    <tr>\n",
       "      <th>22</th>\n",
       "      <td>Houghton</td>\n",
       "      <td>35.96</td>\n",
       "      <td>47.1219</td>\n",
       "      <td>-88.5690</td>\n",
       "    </tr>\n",
       "    <tr>\n",
       "      <th>23</th>\n",
       "      <td>Maquoketa</td>\n",
       "      <td>43.99</td>\n",
       "      <td>42.0689</td>\n",
       "      <td>-90.6657</td>\n",
       "    </tr>\n",
       "    <tr>\n",
       "      <th>24</th>\n",
       "      <td>Leland</td>\n",
       "      <td>66.96</td>\n",
       "      <td>34.2563</td>\n",
       "      <td>-78.0447</td>\n",
       "    </tr>\n",
       "    <tr>\n",
       "      <th>25</th>\n",
       "      <td>West Salem</td>\n",
       "      <td>42.22</td>\n",
       "      <td>43.8991</td>\n",
       "      <td>-91.0813</td>\n",
       "    </tr>\n",
       "    <tr>\n",
       "      <th>26</th>\n",
       "      <td>Williamsport</td>\n",
       "      <td>52.45</td>\n",
       "      <td>41.2412</td>\n",
       "      <td>-77.0011</td>\n",
       "    </tr>\n",
       "  </tbody>\n",
       "</table>\n",
       "</div>"
      ],
      "text/plain": [
       "                     City Name  Fahrenheit Temperature  Latitude  Longitude\n",
       "0                    Nantucket                   53.47   41.2835   -70.0995\n",
       "1                    Watertown                   53.47   42.3709   -71.1828\n",
       "2                        Ammon                   74.64   43.4696  -111.9666\n",
       "3                   El Granada                   56.01   37.5027  -122.4694\n",
       "4                 Lincoln City                   54.72   44.9582  -124.0179\n",
       "5                       Keyser                   51.51   39.4409   -78.9739\n",
       "6                    Jamesburg                   58.64   40.3526   -74.4401\n",
       "7                      Houlton                   47.95   46.1262   -67.8403\n",
       "8                     Key West                   79.00   24.5557   -81.7826\n",
       "9                   Montpelier                   49.35   44.2601   -72.5754\n",
       "10                       Boise                   84.27   43.6135  -116.2035\n",
       "11                     Eastham                   53.78   41.8301   -69.9739\n",
       "12                      Monroe                   46.09   43.1501   -77.6831\n",
       "13                    Galliano                   70.93   29.4422   -90.2992\n",
       "14                     Cloquet                   44.24   46.7216   -92.4594\n",
       "15           West Side Highway                   60.87   46.1840  -122.9172\n",
       "16                    Big Bear                   59.13   34.2611  -116.8450\n",
       "17                    Mascotte                   68.32   28.5783   -81.8867\n",
       "18                     Silsbee                   70.83   30.3491   -94.1780\n",
       "19                Watford City                   53.46   47.8022  -103.2832\n",
       "20  Helena Valley West Central                   74.23   46.6629  -112.0604\n",
       "21                    Beeville                   72.30   28.4008   -97.7483\n",
       "22                    Houghton                   35.96   47.1219   -88.5690\n",
       "23                   Maquoketa                   43.99   42.0689   -90.6657\n",
       "24                      Leland                   66.96   34.2563   -78.0447\n",
       "25                  West Salem                   42.22   43.8991   -91.0813\n",
       "26                Williamsport                   52.45   41.2412   -77.0011"
      ]
     },
     "execution_count": 18,
     "metadata": {},
     "output_type": "execute_result"
    }
   ],
   "source": [
    "temperatures = []\n",
    "lats = []\n",
    "lons = []\n",
    "cities = []\n",
    "\n",
    "queryURL = f\"{url}appid={api_key}&units={units}&q=\"\n",
    "\n",
    "for city in citynames:\n",
    "    \n",
    "    try:\n",
    "        \n",
    "        time.sleep(1) # pauses the program for 1 second\n",
    "    \n",
    "        cityQuery = f'{queryURL}{city}'\n",
    "        \n",
    "        response = requests.get(cityQuery).json()\n",
    "    \n",
    "        if response['coord']['lat'] > 50 or response['coord']['lat'] < 24:\n",
    "            pass\n",
    "        elif response['coord']['lon'] < -125 or response ['coord']['lon'] > -66.9:\n",
    "            pass\n",
    "        elif response ['sys']['country'] != 'US':\n",
    "            pass\n",
    "        else:    \n",
    " \n",
    "            temperatures.append(response['main']['temp'])\n",
    "        \n",
    "            lats.append(response['coord']['lat'])\n",
    "        \n",
    "            lons.append(response['coord']['lon'])\n",
    "        \n",
    "            cities.append(response['name'])\n",
    "    \n",
    "    except:\n",
    "        \n",
    "            #just in case the temperatuer was not reported\n",
    "            pass\n",
    "    \n",
    "# build the dataframe\n",
    "cityDataDF = pd.DataFrame(\n",
    "    {\n",
    "        \"City Name\": cities,\n",
    "        \"Fahrenheit Temperature\": temperatures,\n",
    "        \"Latitude\": lats,\n",
    "        \"Longitude\": lons     \n",
    "    }\n",
    ")\n",
    "cityDataDF"
   ]
  },
  {
   "cell_type": "code",
   "execution_count": 19,
   "metadata": {},
   "outputs": [
    {
     "ename": "SyntaxError",
     "evalue": "invalid syntax (2971602478.py, line 1)",
     "output_type": "error",
     "traceback": [
      "\u001b[1;36m  File \u001b[1;32m\"C:\\Users\\hoopr\\AppData\\Local\\Temp\\ipykernel_50084\\2971602478.py\"\u001b[1;36m, line \u001b[1;32m1\u001b[0m\n\u001b[1;33m    pip install Cartopy\u001b[0m\n\u001b[1;37m        ^\u001b[0m\n\u001b[1;31mSyntaxError\u001b[0m\u001b[1;31m:\u001b[0m invalid syntax\n"
     ]
    }
   ],
   "source": [
    "pip install Cartopy\n",
    "\n",
    "import hvplot.pandas"
   ]
  },
  {
   "cell_type": "code",
   "execution_count": null,
   "metadata": {},
   "outputs": [],
   "source": [
    "weatherMapPlot = cityDataDF.hvplot.points(\n",
    "    \"Longitude\", \n",
    "    \"Latitude\",\n",
    "    geo = True,\n",
    "    size = \"Fahrenheit Temperature\",\n",
    "    scale = 1,\n",
    "    color = \"City Name\",\n",
    "    alpha = 0.5,\n",
    "    tiles = \"OSM\",\n",
    "    frame_width = 896,\n",
    "    frame_height = 504\n",
    "\n",
    ")\n",
    "\n",
    "weatherMapPlot"
   ]
  },
  {
   "cell_type": "code",
   "execution_count": 25,
   "metadata": {},
   "outputs": [
    {
     "name": "stdout",
     "output_type": "stream",
     "text": [
      "Beginning Data Retrieval     \n",
      "-----------------------------\n",
      "Processing Record 1 of Set 1 | Nantucket\n",
      "City not found. Skipping...\n",
      "Processing Record 2 of Set 1 | Watertown\n",
      "City not found. Skipping...\n",
      "Processing Record 3 of Set 1 | Ammon\n",
      "City not found. Skipping...\n",
      "Processing Record 4 of Set 1 | El Granada\n",
      "City not found. Skipping...\n",
      "Processing Record 5 of Set 1 | Lincoln City\n",
      "City not found. Skipping...\n",
      "Processing Record 6 of Set 1 | Keyser\n",
      "City not found. Skipping...\n",
      "Processing Record 7 of Set 1 | Jamesburg\n",
      "City not found. Skipping...\n",
      "Processing Record 8 of Set 1 | Houlton\n",
      "City not found. Skipping...\n",
      "Processing Record 9 of Set 1 | Key West\n",
      "City not found. Skipping...\n",
      "Processing Record 10 of Set 1 | Montpelier\n",
      "City not found. Skipping...\n",
      "Processing Record 11 of Set 1 | Boise\n",
      "City not found. Skipping...\n",
      "Processing Record 12 of Set 1 | Eastham\n",
      "City not found. Skipping...\n",
      "Processing Record 13 of Set 1 | Monroe\n",
      "City not found. Skipping...\n",
      "Processing Record 14 of Set 1 | Galliano\n",
      "City not found. Skipping...\n",
      "Processing Record 15 of Set 1 | Cloquet\n",
      "City not found. Skipping...\n",
      "Processing Record 16 of Set 1 | West Side Highway\n",
      "City not found. Skipping...\n",
      "Processing Record 17 of Set 1 | Big Bear\n",
      "City not found. Skipping...\n",
      "Processing Record 18 of Set 1 | Mascotte\n",
      "City not found. Skipping...\n",
      "Processing Record 19 of Set 1 | Silsbee\n",
      "City not found. Skipping...\n",
      "Processing Record 20 of Set 1 | Watford City\n",
      "City not found. Skipping...\n",
      "Processing Record 21 of Set 1 | Helena Valley West Central\n",
      "City not found. Skipping...\n",
      "Processing Record 22 of Set 1 | Beeville\n",
      "City not found. Skipping...\n",
      "Processing Record 23 of Set 1 | Houghton\n",
      "City not found. Skipping...\n",
      "Processing Record 24 of Set 1 | Maquoketa\n",
      "City not found. Skipping...\n",
      "Processing Record 25 of Set 1 | Leland\n",
      "City not found. Skipping...\n",
      "Processing Record 26 of Set 1 | West Salem\n",
      "City not found. Skipping...\n",
      "Processing Record 27 of Set 1 | Williamsport\n",
      "City not found. Skipping...\n",
      "-----------------------------\n",
      "Data Retrieval Complete      \n",
      "-----------------------------\n"
     ]
    }
   ],
   "source": [
    "\n",
    "url =  \"https://api.openweathermap.org/data/2.5/weather?units=Imperial&appid={weather_api_key}\"\n",
    "# Define an empty list to fetch the weather data for each city\n",
    "city_data = []\n",
    "\n",
    "# Print to logger\n",
    "print(\"Beginning Data Retrieval     \")\n",
    "print(\"-----------------------------\")\n",
    "\n",
    "# Create counters\n",
    "record_count = 1\n",
    "set_count = 1\n",
    "\n",
    "# Loop through all the cities in our list to fetch weather data\n",
    "for i, city in enumerate(cities):\n",
    "        \n",
    "    # Group cities in sets of 50 for logging purposes\n",
    "    if (i % 50 == 0 and i >= 50):\n",
    "        set_count += 1\n",
    "        record_count = 0\n",
    "\n",
    "    # Create endpoint URL with each city\n",
    "    city_url = f\"{url}&q={city}\"\n",
    "    \n",
    "    # Log the url, record, and set numbers\n",
    "    print(\"Processing Record %s of Set %s | %s\" % (record_count, set_count, city))\n",
    "\n",
    "    # Add 1 to the record count\n",
    "    record_count += 1\n",
    "\n",
    "    # Run an API request for each of the cities\n",
    "    try:\n",
    "        # Parse the JSON and retrieve data\n",
    "        city_weather = requests.get(city_url).json()\n",
    "        \n",
    "        time.sleep(1)\n",
    "\n",
    "        # Parse out latitude, longitude, max temp, humidity, cloudiness, wind speed, country, and date\n",
    "        city_lat = city_weather['coord']['lat']\n",
    "        city_lng = city_weather['coord']['lon']\n",
    "        city_max_temp = city_weather['main']['temp_max']\n",
    "        city_humidity = city_weather['main']['humidity']\n",
    "        city_clouds = city_weather['clouds']['all']\n",
    "        city_wind = city_weather['wind']['speed']\n",
    "        city_country = city_weather['sys']['country']\n",
    "        city_date = city_weather['dt']\n",
    "\n",
    "        # Append the City information into city_data list\n",
    "        city_data.append({\"City\": city, \n",
    "                          \"Lat\": city_lat, \n",
    "                          \"Lng\": city_lng, \n",
    "                          \"Max Temp\": city_max_temp,\n",
    "                          \"Humidity\": city_humidity,\n",
    "                          \"Cloudiness\": city_clouds,\n",
    "                          \"Wind Speed\": city_wind,\n",
    "                          \"Country\": city_country,\n",
    "                          \"Date\": city_date})\n",
    "\n",
    "    # If an error is experienced, skip the city\n",
    "    except:\n",
    "        print(\"City not found. Skipping...\")\n",
    "        pass\n",
    "              \n",
    "# Indicate that Data Loading is complete \n",
    "print(\"-----------------------------\")\n",
    "print(\"Data Retrieval Complete      \")\n",
    "print(\"-----------------------------\")"
   ]
  },
  {
   "cell_type": "code",
   "execution_count": 30,
   "metadata": {},
   "outputs": [
    {
     "data": {
      "text/plain": [
       "Series([], dtype: int64)"
      ]
     },
     "execution_count": 30,
     "metadata": {},
     "output_type": "execute_result"
    }
   ],
   "source": [
    "# Convert the cities weather data into a Pandas DataFrame\n",
    "city_data_df = pd.DataFrame(city_data)\n",
    "\n",
    "city_data_df.count()"
   ]
  },
  {
   "cell_type": "code",
   "execution_count": 29,
   "metadata": {},
   "outputs": [
    {
     "data": {
      "text/html": [
       "<div>\n",
       "<style scoped>\n",
       "    .dataframe tbody tr th:only-of-type {\n",
       "        vertical-align: middle;\n",
       "    }\n",
       "\n",
       "    .dataframe tbody tr th {\n",
       "        vertical-align: top;\n",
       "    }\n",
       "\n",
       "    .dataframe thead th {\n",
       "        text-align: right;\n",
       "    }\n",
       "</style>\n",
       "<table border=\"1\" class=\"dataframe\">\n",
       "  <thead>\n",
       "    <tr style=\"text-align: right;\">\n",
       "      <th></th>\n",
       "    </tr>\n",
       "  </thead>\n",
       "  <tbody>\n",
       "  </tbody>\n",
       "</table>\n",
       "</div>"
      ],
      "text/plain": [
       "Empty DataFrame\n",
       "Columns: []\n",
       "Index: []"
      ]
     },
     "execution_count": 29,
     "metadata": {},
     "output_type": "execute_result"
    }
   ],
   "source": [
    "# Display sample data\n",
    "city_data_df.head()"
   ]
  },
  {
   "cell_type": "code",
   "execution_count": null,
   "metadata": {},
   "outputs": [],
   "source": [
    "# Export the City_Data into a csv\n",
    "city_data_df.to_csv(\"output_data/cities.csv\", index_label=\"City_ID\")"
   ]
  },
  {
   "cell_type": "code",
   "execution_count": null,
   "metadata": {},
   "outputs": [],
   "source": [
    "# Read saved data\n",
    "city_data_df = pd.read_csv(\"output_data/cities.csv\", index_col=\"City_ID\")\n",
    "\n",
    "# Display sample data\n",
    "city_data_df.head()"
   ]
  },
  {
   "cell_type": "markdown",
   "metadata": {},
   "source": [
    "### Create the Scatter Plots Requested\n",
    "\n",
    "#### Latitude Vs. Temperature"
   ]
  },
  {
   "cell_type": "code",
   "execution_count": null,
   "metadata": {
    "tags": []
   },
   "outputs": [],
   "source": [
    "# Build scatter plot for latitude vs. temperature\n",
    "\n",
    "\n",
    "# Save the figure\n",
    "plt.savefig(\"output_data/Fig1.png\")\n",
    "\n",
    "# Show plot\n",
    "plt.show()"
   ]
  },
  {
   "cell_type": "markdown",
   "metadata": {},
   "source": [
    "#### Latitude Vs. Humidity"
   ]
  },
  {
   "cell_type": "code",
   "execution_count": null,
   "metadata": {},
   "outputs": [],
   "source": [
    "# Build the scatter plots for latitude vs. humidity\n",
    "# YOUR CODE HERE\n",
    "\n",
    "# Incorporate the other graph properties\n",
    "# YOUR CODE HERE\n",
    "\n",
    "# Save the figure\n",
    "plt.savefig(\"output_data/Fig2.png\")\n",
    "\n",
    "# Show plot\n",
    "plt.show()"
   ]
  },
  {
   "cell_type": "markdown",
   "metadata": {},
   "source": [
    "#### Latitude Vs. Cloudiness"
   ]
  },
  {
   "cell_type": "code",
   "execution_count": null,
   "metadata": {},
   "outputs": [],
   "source": [
    "# Build the scatter plots for latitude vs. cloudiness\n",
    "# YOUR CODE HERE\n",
    "\n",
    "# Incorporate the other graph properties\n",
    "# YOUR CODE HERE\n",
    "\n",
    "# Save the figure\n",
    "plt.savefig(\"output_data/Fig3.png\")\n",
    "\n",
    "# Show plot\n",
    "plt.show()"
   ]
  },
  {
   "cell_type": "markdown",
   "metadata": {},
   "source": [
    "#### Latitude vs. Wind Speed Plot"
   ]
  },
  {
   "cell_type": "code",
   "execution_count": null,
   "metadata": {},
   "outputs": [],
   "source": [
    "# Build the scatter plots for latitude vs. wind speed\n",
    "# YOUR CODE HERE\n",
    "\n",
    "# Incorporate the other graph properties\n",
    "# YOUR CODE HERE\n",
    "\n",
    "# Save the figure\n",
    "plt.savefig(\"output_data/Fig4.png\")\n",
    "\n",
    "# Show plot\n",
    "plt.show()"
   ]
  },
  {
   "cell_type": "markdown",
   "metadata": {},
   "source": [
    "---\n",
    "\n",
    "## Requirement 2: Compute Linear Regression for Each Relationship\n"
   ]
  },
  {
   "cell_type": "code",
   "execution_count": null,
   "metadata": {},
   "outputs": [],
   "source": [
    "# Define a function to create Linear Regression plots\n",
    "# YOUR CODE HERE"
   ]
  },
  {
   "cell_type": "code",
   "execution_count": null,
   "metadata": {},
   "outputs": [],
   "source": [
    "# Create a DataFrame with the Northern Hemisphere data (Latitude >= 0)\n",
    "# YOUR CODE HERE\n",
    "\n",
    "# Display sample data\n",
    "northern_hemi_df.head()"
   ]
  },
  {
   "cell_type": "code",
   "execution_count": null,
   "metadata": {},
   "outputs": [],
   "source": [
    "# Create a DataFrame with the Southern Hemisphere data (Latitude < 0)\n",
    "# YOUR CODE HERE\n",
    "\n",
    "# Display sample data\n",
    "southern_hemi_df.head()"
   ]
  },
  {
   "cell_type": "markdown",
   "metadata": {},
   "source": [
    "###  Temperature vs. Latitude Linear Regression Plot"
   ]
  },
  {
   "cell_type": "code",
   "execution_count": null,
   "metadata": {},
   "outputs": [],
   "source": [
    "# Linear regression on Northern Hemisphere\n",
    "# YOUR CODE HERE"
   ]
  },
  {
   "cell_type": "code",
   "execution_count": null,
   "metadata": {},
   "outputs": [],
   "source": [
    "# Linear regression on Southern Hemisphere\n",
    "# YOUR CODE HERE"
   ]
  },
  {
   "cell_type": "markdown",
   "metadata": {},
   "source": [
    "**Discussion about the linear relationship:** YOUR RESPONSE HERE"
   ]
  },
  {
   "cell_type": "markdown",
   "metadata": {},
   "source": [
    "### Humidity vs. Latitude Linear Regression Plot"
   ]
  },
  {
   "cell_type": "code",
   "execution_count": null,
   "metadata": {},
   "outputs": [],
   "source": [
    "# Northern Hemisphere\n",
    "# YOUR CODE HERE"
   ]
  },
  {
   "cell_type": "code",
   "execution_count": null,
   "metadata": {},
   "outputs": [],
   "source": [
    "# Southern Hemisphere\n",
    "# YOUR CODE HERE"
   ]
  },
  {
   "cell_type": "markdown",
   "metadata": {},
   "source": [
    "**Discussion about the linear relationship:** YOUR RESPONSE HERE"
   ]
  },
  {
   "cell_type": "markdown",
   "metadata": {},
   "source": [
    "### Cloudiness vs. Latitude Linear Regression Plot"
   ]
  },
  {
   "cell_type": "code",
   "execution_count": null,
   "metadata": {},
   "outputs": [],
   "source": [
    "# Northern Hemisphere\n",
    "# YOUR CODE HERE"
   ]
  },
  {
   "cell_type": "code",
   "execution_count": null,
   "metadata": {},
   "outputs": [],
   "source": [
    "# Southern Hemisphere\n",
    "# YOUR CODE HERE"
   ]
  },
  {
   "cell_type": "markdown",
   "metadata": {},
   "source": [
    "**Discussion about the linear relationship:** YOUR RESPONSE HERE"
   ]
  },
  {
   "cell_type": "markdown",
   "metadata": {},
   "source": [
    "### Wind Speed vs. Latitude Linear Regression Plot"
   ]
  },
  {
   "cell_type": "code",
   "execution_count": null,
   "metadata": {},
   "outputs": [],
   "source": [
    "# Northern Hemisphere\n",
    "# YOUR CODE HERE"
   ]
  },
  {
   "cell_type": "code",
   "execution_count": null,
   "metadata": {},
   "outputs": [],
   "source": [
    "# Southern Hemisphere\n",
    "# YOUR CODE HERE"
   ]
  },
  {
   "cell_type": "markdown",
   "metadata": {},
   "source": [
    "**Discussion about the linear relationship:** YOUR RESPONSE HERE"
   ]
  },
  {
   "cell_type": "code",
   "execution_count": null,
   "metadata": {},
   "outputs": [],
   "source": []
  }
 ],
 "metadata": {
  "anaconda-cloud": {},
  "kernel_info": {
   "name": "python3"
  },
  "kernelspec": {
   "display_name": "Python 3 (ipykernel)",
   "language": "python",
   "name": "python3"
  },
  "language_info": {
   "codemirror_mode": {
    "name": "ipython",
    "version": 3
   },
   "file_extension": ".py",
   "mimetype": "text/x-python",
   "name": "python",
   "nbconvert_exporter": "python",
   "pygments_lexer": "ipython3",
   "version": "3.9.13"
  },
  "latex_envs": {
   "LaTeX_envs_menu_present": true,
   "autoclose": false,
   "autocomplete": true,
   "bibliofile": "biblio.bib",
   "cite_by": "apalike",
   "current_citInitial": 1,
   "eqLabelWithNumbers": true,
   "eqNumInitial": 1,
   "hotkeys": {
    "equation": "Ctrl-E",
    "itemize": "Ctrl-I"
   },
   "labels_anchors": false,
   "latex_user_defs": false,
   "report_style_numbering": false,
   "user_envs_cfg": false
  },
  "nteract": {
   "version": "0.12.3"
  }
 },
 "nbformat": 4,
 "nbformat_minor": 4
}
